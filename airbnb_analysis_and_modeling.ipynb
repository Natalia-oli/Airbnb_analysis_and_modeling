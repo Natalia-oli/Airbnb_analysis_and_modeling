{
 "cells": [
  {
   "cell_type": "code",
   "execution_count": 248,
   "id": "15070384-5984-46bc-b0cf-cf2cb1c0a9fa",
   "metadata": {},
   "outputs": [],
   "source": [
    "from sklearn.ensemble import RandomForestClassifier\n",
    "from sklearn.tree import DecisionTreeClassifier # Import Decision Tree Classifier\n",
    "from sklearn.model_selection import train_test_split # Import train_test_split function\n",
    "from sklearn.preprocessing import LabelEncoder\n",
    "import matplotlib.pyplot as plt\n",
    "from datetime import datetime\n",
    "from sklearn import metrics #Import scikit-learn metrics module for accuracy calculation\n",
    "import pandas as pd\n",
    "import numpy as np"
   ]
  },
  {
   "cell_type": "markdown",
   "id": "0d03fdb7-2431-4187-b1aa-4b5d7d3a203f",
   "metadata": {},
   "source": [
    "# Business Understanding"
   ]
  },
  {
   "cell_type": "markdown",
   "id": "79da1d55-dbff-4f4b-90d9-4a5cd5b05f7b",
   "metadata": {},
   "source": [
    "Airbnb is a renowned platform that allows home and apartment owners to offer their properties for short-term stays to guests. With its convenience and flexibility, it has emerged as a preferred option among travelers. In this article, we will delve into the Airbnb Seattle dataset and address three key business questions mentioned below;\n",
    "\n",
    "Q1: In which months does price variation usually occur? and at what times do prices remain constant?<br/>\n",
    "\n",
    "Q2: Where are most of the accommodations concentrated in price variations? <br/>\n",
    "\n",
    "Q3: How well can we predict the type of cancellation policy for bookings?"
   ]
  },
  {
   "cell_type": "markdown",
   "id": "23f5f77c-74fe-4f66-ba0e-6d4d73ff31e9",
   "metadata": {},
   "source": [
    "#### variables"
   ]
  },
  {
   "cell_type": "code",
   "execution_count": 137,
   "id": "af646446-ef91-4ab8-bf78-dcf2f920763c",
   "metadata": {},
   "outputs": [],
   "source": [
    "date_ref = pd.to_datetime('2016-01-01')"
   ]
  },
  {
   "cell_type": "markdown",
   "id": "310bb6e3-ce8e-40d1-acf6-0d51f3e0fb77",
   "metadata": {},
   "source": [
    "## 1. Reading datas"
   ]
  },
  {
   "cell_type": "markdown",
   "id": "721edb1f-26e3-4fb8-82e8-e32b2a2902c2",
   "metadata": {},
   "source": [
    "Through the Inside Airbnb website, I was able to access three important databases related to the city of Boston.\n",
    "1. The first database, called \"listings.csv.gz\", provides detailed information about the listings. This includes details about the listed properties, such as location, amenities, prices, and much more.\n",
    "2. The second database, \"calendar.csv.gz\", offers detailed information about the calendar. This can include information about the availability of listings over time, booking dates, and other related details.\n",
    "3. The third database, \"reviews.csv.gz\", contains detailed information about the reviews. This includes customer reviews for the listings, providing insights into customer experiences and feedback.\n",
    "These databases are a rich source of information that can be used to better understand the short-term rental market in Boston."
   ]
  },
  {
   "cell_type": "code",
   "execution_count": 249,
   "id": "7890e9ed-519a-4cdd-990d-e000d4b23a58",
   "metadata": {},
   "outputs": [],
   "source": [
    "calender = pd.read_csv('dados-airbnb/calendar.csv')\n",
    "listings = pd.read_csv('dados-airbnb/listings.csv')\n",
    "reviews = pd.read_csv('dados-airbnb/reviews.csv')"
   ]
  },
  {
   "cell_type": "markdown",
   "id": "00e065d1-4673-4d50-b8f4-8e512332dd28",
   "metadata": {},
   "source": [
    "## 2. Understanding of data and answers"
   ]
  },
  {
   "cell_type": "code",
   "execution_count": 139,
   "id": "2f54e148-a84a-47ba-bd0e-1db00d382ad5",
   "metadata": {},
   "outputs": [],
   "source": [
    "calender['price'] = calender['price'].replace('nan', pd.NA)\n",
    "calender = calender.dropna(subset=['price'])\n",
    "\n",
    "# adapting col price to ideal format for value data\n",
    "calender['price'] = calender['price'].replace({'\\$': '', ',': ''}, regex=True)\n",
    "calender['price'] = pd.to_numeric(calender['price'])\n",
    "calender['price'] = calender['price'].round(2)"
   ]
  },
  {
   "cell_type": "code",
   "execution_count": 140,
   "id": "83886989-c177-4f84-aeaa-3b6f7befc5f2",
   "metadata": {},
   "outputs": [],
   "source": [
    "# creating a new column to record the year for each data entry\n",
    "calender['date'] = pd.to_datetime(calender['date'])\n",
    "\n",
    "# creating variables of time of informations\n",
    "calender['year'] = calender['date'].dt.year \n",
    "calender['month'] = calender['date'].dt.month_name()"
   ]
  },
  {
   "cell_type": "code",
   "execution_count": 141,
   "id": "2c344cd1-aed1-47ec-a07b-54fbc92973d7",
   "metadata": {},
   "outputs": [],
   "source": [
    "# as there is little data for the year 2017, we will consider the analysis only over 2016\n",
    "calender = calender.loc[calender['year'] == 2016]"
   ]
  },
  {
   "cell_type": "code",
   "execution_count": 142,
   "id": "de6628b3-71f6-4a9a-abb6-a6205d433e8d",
   "metadata": {},
   "outputs": [],
   "source": [
    "# get max price for each year \n",
    "df_prices_max = calender.groupby(['listing_id', 'month', 'year'])['price'].max().reset_index()\n",
    "df_prices_max.rename(columns={'price': 'max_price'}, inplace=True)"
   ]
  },
  {
   "cell_type": "code",
   "execution_count": 143,
   "id": "c693a744-7353-418d-90d6-da48f344edd8",
   "metadata": {},
   "outputs": [],
   "source": [
    "# get min price for each year \n",
    "df_prices_min = calender.groupby(['listing_id', 'month', 'year'])['price'].min().reset_index()\n",
    "df_prices_min.rename(columns={'price': 'min_price'}, inplace=True)"
   ]
  },
  {
   "cell_type": "code",
   "execution_count": 144,
   "id": "41fffcac-b5de-440a-a87d-c00a4fe5fc89",
   "metadata": {},
   "outputs": [],
   "source": [
    "# join info prices to operations and analysis\n",
    "df_prices_min_reset = df_prices_min.reset_index()\n",
    "df_prices = df_prices_max.join(df_prices_min_reset.set_index(['listing_id', 'month', 'year']), on=['listing_id', 'month', 'year'], how='inner')"
   ]
  },
  {
   "cell_type": "code",
   "execution_count": 145,
   "id": "3620de9b-b412-4568-be39-78284a28d765",
   "metadata": {},
   "outputs": [],
   "source": [
    "#function for temperature price variation within the months of each year\n",
    "def calculate_difference(row):\n",
    "    return row['max_price'] - row['min_price']\n",
    "\n",
    "df_prices['price_difference'] = df_prices.apply(calculate_difference, axis=1)\n",
    "#formated price\n",
    "df_prices['price_difference'] = df_prices['price_difference'].map('{:.2f}'.format).astype(float)"
   ]
  },
  {
   "cell_type": "markdown",
   "id": "5e2d2408-e4ad-4363-b4f8-69da0be549f1",
   "metadata": {},
   "source": [
    "## Q1. In which months does price variation usually occur? and at what times do prices remain constant?"
   ]
  },
  {
   "cell_type": "markdown",
   "id": "bb1deeee-a5dd-4432-b2e8-6dac4c7f96ad",
   "metadata": {},
   "source": [
    "the dataframe generated for analysis brings, according to the data contained in the source, the listed accommodation and its maximum and minimum price within each month in which there is data. In total we have 33K thousand records. Check out:"
   ]
  },
  {
   "cell_type": "code",
   "execution_count": 108,
   "id": "b4f8cfe3-a407-4904-aa5c-cccd3f77bb18",
   "metadata": {},
   "outputs": [
    {
     "data": {
      "text/html": [
       "<div>\n",
       "<style scoped>\n",
       "    .dataframe tbody tr th:only-of-type {\n",
       "        vertical-align: middle;\n",
       "    }\n",
       "\n",
       "    .dataframe tbody tr th {\n",
       "        vertical-align: top;\n",
       "    }\n",
       "\n",
       "    .dataframe thead th {\n",
       "        text-align: right;\n",
       "    }\n",
       "</style>\n",
       "<table border=\"1\" class=\"dataframe\">\n",
       "  <thead>\n",
       "    <tr style=\"text-align: right;\">\n",
       "      <th></th>\n",
       "      <th>listing_id</th>\n",
       "      <th>month</th>\n",
       "      <th>year</th>\n",
       "      <th>max_price</th>\n",
       "      <th>index</th>\n",
       "      <th>min_price</th>\n",
       "      <th>price_difference</th>\n",
       "    </tr>\n",
       "  </thead>\n",
       "  <tbody>\n",
       "    <tr>\n",
       "      <th>0</th>\n",
       "      <td>3335</td>\n",
       "      <td>April</td>\n",
       "      <td>2016</td>\n",
       "      <td>120.0</td>\n",
       "      <td>0</td>\n",
       "      <td>120.0</td>\n",
       "      <td>0.0</td>\n",
       "    </tr>\n",
       "    <tr>\n",
       "      <th>1</th>\n",
       "      <td>3335</td>\n",
       "      <td>August</td>\n",
       "      <td>2016</td>\n",
       "      <td>120.0</td>\n",
       "      <td>1</td>\n",
       "      <td>120.0</td>\n",
       "      <td>0.0</td>\n",
       "    </tr>\n",
       "    <tr>\n",
       "      <th>2</th>\n",
       "      <td>3335</td>\n",
       "      <td>December</td>\n",
       "      <td>2016</td>\n",
       "      <td>120.0</td>\n",
       "      <td>2</td>\n",
       "      <td>120.0</td>\n",
       "      <td>0.0</td>\n",
       "    </tr>\n",
       "    <tr>\n",
       "      <th>3</th>\n",
       "      <td>3335</td>\n",
       "      <td>February</td>\n",
       "      <td>2016</td>\n",
       "      <td>120.0</td>\n",
       "      <td>3</td>\n",
       "      <td>120.0</td>\n",
       "      <td>0.0</td>\n",
       "    </tr>\n",
       "    <tr>\n",
       "      <th>4</th>\n",
       "      <td>3335</td>\n",
       "      <td>July</td>\n",
       "      <td>2016</td>\n",
       "      <td>120.0</td>\n",
       "      <td>4</td>\n",
       "      <td>120.0</td>\n",
       "      <td>0.0</td>\n",
       "    </tr>\n",
       "    <tr>\n",
       "      <th>...</th>\n",
       "      <td>...</td>\n",
       "      <td>...</td>\n",
       "      <td>...</td>\n",
       "      <td>...</td>\n",
       "      <td>...</td>\n",
       "      <td>...</td>\n",
       "      <td>...</td>\n",
       "    </tr>\n",
       "    <tr>\n",
       "      <th>33179</th>\n",
       "      <td>10340165</td>\n",
       "      <td>March</td>\n",
       "      <td>2016</td>\n",
       "      <td>43.0</td>\n",
       "      <td>33179</td>\n",
       "      <td>43.0</td>\n",
       "      <td>0.0</td>\n",
       "    </tr>\n",
       "    <tr>\n",
       "      <th>33180</th>\n",
       "      <td>10340165</td>\n",
       "      <td>May</td>\n",
       "      <td>2016</td>\n",
       "      <td>43.0</td>\n",
       "      <td>33180</td>\n",
       "      <td>43.0</td>\n",
       "      <td>0.0</td>\n",
       "    </tr>\n",
       "    <tr>\n",
       "      <th>33181</th>\n",
       "      <td>10340165</td>\n",
       "      <td>November</td>\n",
       "      <td>2016</td>\n",
       "      <td>43.0</td>\n",
       "      <td>33181</td>\n",
       "      <td>43.0</td>\n",
       "      <td>0.0</td>\n",
       "    </tr>\n",
       "    <tr>\n",
       "      <th>33182</th>\n",
       "      <td>10340165</td>\n",
       "      <td>October</td>\n",
       "      <td>2016</td>\n",
       "      <td>43.0</td>\n",
       "      <td>33182</td>\n",
       "      <td>43.0</td>\n",
       "      <td>0.0</td>\n",
       "    </tr>\n",
       "    <tr>\n",
       "      <th>33183</th>\n",
       "      <td>10340165</td>\n",
       "      <td>September</td>\n",
       "      <td>2016</td>\n",
       "      <td>43.0</td>\n",
       "      <td>33183</td>\n",
       "      <td>43.0</td>\n",
       "      <td>0.0</td>\n",
       "    </tr>\n",
       "  </tbody>\n",
       "</table>\n",
       "<p>33184 rows × 7 columns</p>\n",
       "</div>"
      ],
      "text/plain": [
       "       listing_id      month  year  max_price  index  min_price  \\\n",
       "0            3335      April  2016      120.0      0      120.0   \n",
       "1            3335     August  2016      120.0      1      120.0   \n",
       "2            3335   December  2016      120.0      2      120.0   \n",
       "3            3335   February  2016      120.0      3      120.0   \n",
       "4            3335       July  2016      120.0      4      120.0   \n",
       "...           ...        ...   ...        ...    ...        ...   \n",
       "33179    10340165      March  2016       43.0  33179       43.0   \n",
       "33180    10340165        May  2016       43.0  33180       43.0   \n",
       "33181    10340165   November  2016       43.0  33181       43.0   \n",
       "33182    10340165    October  2016       43.0  33182       43.0   \n",
       "33183    10340165  September  2016       43.0  33183       43.0   \n",
       "\n",
       "       price_difference  \n",
       "0                   0.0  \n",
       "1                   0.0  \n",
       "2                   0.0  \n",
       "3                   0.0  \n",
       "4                   0.0  \n",
       "...                 ...  \n",
       "33179               0.0  \n",
       "33180               0.0  \n",
       "33181               0.0  \n",
       "33182               0.0  \n",
       "33183               0.0  \n",
       "\n",
       "[33184 rows x 7 columns]"
      ]
     },
     "execution_count": 108,
     "metadata": {},
     "output_type": "execute_result"
    }
   ],
   "source": [
    "df_prices"
   ]
  },
  {
   "cell_type": "markdown",
   "id": "b092bb74-2b7d-473d-b517-20779e1be20a",
   "metadata": {},
   "source": [
    "given that we have the possibility to identify whether there has been a variation in the price of accommodation on a monthly basis,\n",
    "let's check how many accommodations do not vary their prices in the month:"
   ]
  },
  {
   "cell_type": "code",
   "execution_count": 109,
   "id": "94273c90-db5a-474a-805e-384cc62c73a5",
   "metadata": {},
   "outputs": [
    {
     "data": {
      "text/plain": [
       "20224"
      ]
     },
     "execution_count": 109,
     "metadata": {},
     "output_type": "execute_result"
    }
   ],
   "source": [
    "df_prices.loc[df_prices['price_difference'] == 0.00].shape[0]"
   ]
  },
  {
   "cell_type": "markdown",
   "id": "9641397c-188a-4dae-8263-cdf5c5719e00",
   "metadata": {},
   "source": [
    "therefore, there are 20K listings of accommodations with no price change in random months. Making a comparison with the number of lines in the original df, we noticed that 60% of the accommodations over the months do not change their prices.\n",
    "\n",
    "Let's understand a little more how is the distribution of accommodations in the months that there was no price change below:"
   ]
  },
  {
   "cell_type": "code",
   "execution_count": 110,
   "id": "42b2ba66-33c2-4acc-ad6e-a1eb88ad06e6",
   "metadata": {},
   "outputs": [],
   "source": [
    "df_non_variation = df_prices.loc[df_prices['price_difference'] == 0.00].groupby(['month'])['listing_id'].count().sort_values(ascending=False)"
   ]
  },
  {
   "cell_type": "markdown",
   "id": "0596ee51-63c0-4042-8d9a-91d5a1e2bd03",
   "metadata": {},
   "source": [
    "To better visualize the relationship between months in which accommodations do not change their prices and number of accommodations per month, let's analyze the graph below:\n",
    "\n",
    "Based on the analysis of Graphic 1 just below, it is possible to notice that price stability tends to be higher in the last months of the year, except for the month of April:"
   ]
  },
  {
   "cell_type": "code",
   "execution_count": 260,
   "id": "d2349720-e534-43a9-8cc5-61b6ee66251d",
   "metadata": {},
   "outputs": [
    {
     "data": {
      "image/png": "[encoded data removed]",
      "text/plain": [
       "<Figure size 1200x600 with 1 Axes>"
      ]
     },
     "metadata": {},
     "output_type": "display_data"
    }
   ],
   "source": [
    "df_non_variation.plot(kind='bar', figsize=(12,6), color='#8B4513')\n",
    "\n",
    "# Define o título e os rótulos dos eixos\n",
    "plt.title('Graphic 1: Distribution of accommodations in relation to the months in which their prices did not vary')\n",
    "plt.xlabel('Months without price change')\n",
    "plt.ylabel('Number of Listings')\n",
    "\n",
    "plt.gca().spines[\"top\"].set_alpha(0)    \n",
    "plt.gca().spines[\"bottom\"].set_alpha(0)\n",
    "plt.gca().spines[\"right\"].set_alpha(0)    \n",
    "plt.gca().spines[\"left\"].set_alpha(0) \n",
    "\n",
    "# Mostra o gráfico\n",
    "plt.show()"
   ]
  },
  {
   "cell_type": "markdown",
   "id": "42f40941-4783-44b3-92d1-edc3b65fe2d3",
   "metadata": {},
   "source": [
    "Complementing the analysis above, we note that when analyzing the monthly records of price variations that are different from zero, that is, where there was a price variation within the month's window, the first months of the year come out with a larger quantity of accommodations that vary their prices. Observe the chart 2:"
   ]
  },
  {
   "cell_type": "code",
   "execution_count": 112,
   "id": "184eaa41-a61c-4f20-8001-34b1e9a54cee",
   "metadata": {},
   "outputs": [],
   "source": [
    "df_variation= df_prices.loc[df_prices['price_difference'] > 0.00].groupby(['month'])['listing_id'].count().sort_values(ascending=False)"
   ]
  },
  {
   "cell_type": "code",
   "execution_count": 261,
   "id": "866192b6-9ba0-4140-95c9-12286ab5ffe5",
   "metadata": {},
   "outputs": [
    {
     "data": {
      "image/png": "[encoded data removed]",
      "text/plain": [
       "<Figure size 1200x600 with 1 Axes>"
      ]
     },
     "metadata": {},
     "output_type": "display_data"
    }
   ],
   "source": [
    "df_variation.plot(kind='bar', figsize=(12,6), color='#8B4513')\n",
    "\n",
    "# Define o título e os rótulos dos eixos\n",
    "plt.title('Graphic 2: Distribution of accommodations in relation to the months in which their prices variation')\n",
    "plt.xlabel('Months with price change')\n",
    "plt.ylabel('Number of Listings')\n",
    "\n",
    "plt.gca().spines[\"top\"].set_alpha(0)    \n",
    "plt.gca().spines[\"bottom\"].set_alpha(0)\n",
    "plt.gca().spines[\"right\"].set_alpha(0)    \n",
    "plt.gca().spines[\"left\"].set_alpha(0) \n",
    "\n",
    "# Mostra o gráfico\n",
    "plt.show()"
   ]
  },
  {
   "cell_type": "markdown",
   "id": "e3149415-59e5-45cc-bbcf-cc8076f2bd86",
   "metadata": {},
   "source": [
    "Graphs 1 and 2 show the stability and variation of Airbnb accommodation prices throughout the year. Graph 1 indicates greater price stability in the last months of the year, suggesting more predictable demand. Graph 2 reveals greater price variation in the first months, possibly due to seasonal events or market adjustments. These analyses can guide owners on when to adjust prices to maximize revenue and occupancy. For customers, these data can assist in travel planning, choosing periods of greater stability or price variation according to their flexibility."
   ]
  },
  {
   "cell_type": "markdown",
   "id": "0c177d42-c968-47ff-b2c4-ebfe674b2f99",
   "metadata": {},
   "source": [
    "## Q2. How are accommodations distributed in relation to the identified price variations?"
   ]
  },
  {
   "cell_type": "markdown",
   "id": "205752ff-dc29-4bbb-a728-67c3b35d72a4",
   "metadata": {},
   "source": [
    "Most accommodations show a low price variation, between $1 and $50, indicating stability. \n",
    "However, a significant portion shows higher price variations:"
   ]
  },
  {
   "cell_type": "code",
   "execution_count": 262,
   "id": "166d7533-72c6-475c-9276-fbf0488f61a3",
   "metadata": {},
   "outputs": [
    {
     "data": {
      "image/png": "[encoded data removed]",
      "text/plain": [
       "<Figure size 640x480 with 1 Axes>"
      ]
     },
     "metadata": {},
     "output_type": "display_data"
    }
   ],
   "source": [
    "df_prices_range = df_prices.loc[df_prices['price_difference'] > 0.00]\n",
    "plt.hist(df_prices_range[\"price_difference\"], bins=50, edgecolor=\"none\", color='#8B4513')\n",
    "plt.xticks(np.arange(min(df_prices_range[\"price_difference\"]), max(df_prices_range[\"price_difference\"])+1, 50))\n",
    "plt.xlim([min(df_prices_range[\"price_difference\"]), 500])\n",
    "\n",
    "# Adiciona um título ao gráfico e legendas aos eixos\n",
    "plt.title(\"Graphic 3: The majority of accommodations varied their prices between 1 and 50 em dollars\")\n",
    "plt.xlabel(\"Price($) variation in 2016\")\n",
    "plt.ylabel(\"Frequency of accommodations by price($) variation\")\n",
    "\n",
    "plt.gca().spines[\"top\"].set_alpha(0.0) \n",
    "plt.gca().spines[\"bottom\"].set_alpha(0.5)\n",
    "plt.gca().spines[\"right\"].set_alpha(0.0)    \n",
    "plt.gca().spines[\"left\"].set_alpha(0)"
   ]
  },
  {
   "cell_type": "markdown",
   "id": "24b2e729-8c3a-4b72-8b47-50ff10273dd7",
   "metadata": {},
   "source": [
    "## Q3. How well can we predict the type of cancellation policy for bookings?"
   ]
  },
  {
   "cell_type": "markdown",
   "id": "c674f383-2810-484a-8a5a-482142bebecd",
   "metadata": {},
   "source": [
    "To answer this question, we will use a machine learning model. But first, let's generate the input for this model:"
   ]
  },
  {
   "cell_type": "markdown",
   "id": "87ef2352-f79e-4738-a65a-2d1843121aca",
   "metadata": {},
   "source": [
    "### Generating features"
   ]
  },
  {
   "cell_type": "markdown",
   "id": "6c541569-864d-4a28-a5be-524fbe40dd7f",
   "metadata": {},
   "source": [
    "Generating a feature that represents the total number of comments for each listing. The listings that do not appear here or that\n",
    "have NaN lines, their number of comments will be equal to zero:"
   ]
  },
  {
   "cell_type": "code",
   "execution_count": 156,
   "id": "ad02c7d1-eba9-4f7a-8966-c2e6ee94f956",
   "metadata": {
    "scrolled": true
   },
   "outputs": [],
   "source": [
    "reviews_availabls = reviews[reviews['comments'].notnull()]\n",
    "reviews_features = reviews_availabls.groupby('listing_id')['comments'].count().reset_index()\n",
    "reviews_features.rename(columns={'comments': 'total_comments'}, inplace=True)\n",
    "reviews_features['listing_id'] = reviews_features['listing_id'].astype('object')"
   ]
  },
  {
   "cell_type": "markdown",
   "id": "bdb73d1d-c54c-4f1a-809e-a1920e2d6559",
   "metadata": {},
   "source": [
    "selecting columns that can be potential features of df listings and treating:"
   ]
  },
  {
   "cell_type": "code",
   "execution_count": 169,
   "id": "8af6213c-2344-4abb-a5b7-e28bd1f9fbdb",
   "metadata": {},
   "outputs": [],
   "source": [
    "# selecting the columns that will be used throughout the procedures\n",
    "listings_features = listings[['id', 'minimum_nights', 'maximum_nights', 'smart_location', 'room_type', 'property_type', \n",
    "                     'host_since', 'host_response_rate',  'accommodates','bathrooms', 'bedrooms', 'beds',\n",
    "                     'bed_type', 'cleaning_fee', 'security_deposit', 'require_guest_profile_picture',\n",
    "                     'instant_bookable', 'review_scores_value', 'cancellation_policy']].copy()"
   ]
  },
  {
   "cell_type": "code",
   "execution_count": 170,
   "id": "b353b89b-4816-42a4-8284-cf25bee49781",
   "metadata": {},
   "outputs": [],
   "source": [
    "# renamed col key to default\n",
    "listings_features.rename(columns={'id': 'listing_id'}, inplace = True)\n",
    "listings_features['listing_id'] = listings_features['listing_id'].astype('object')"
   ]
  },
  {
   "cell_type": "code",
   "execution_count": 171,
   "id": "848ab97e-d323-4e55-84f8-c33e36f49163",
   "metadata": {},
   "outputs": [],
   "source": [
    "# treating the column that host_since, which brings each in which the host registered\n",
    "listings_features['host_since'] = pd.to_datetime(listings['host_since'], format='%Y-%m-%d')\n",
    "\n",
    "# adapting column to generate host age feature in days\n",
    "listings_features['age_days_host'] = (date_ref - listings_features['host_since']).dt.days\n",
    "\n",
    "# as the column was recreated above, we eliminated the original one\n",
    "listings_features = listings_features.drop('host_since', axis=1)"
   ]
  },
  {
   "cell_type": "code",
   "execution_count": 172,
   "id": "3842a4a3-d530-4331-96d8-ffdf8ffb6213",
   "metadata": {},
   "outputs": [],
   "source": [
    "listings_features['host_response_rate'] = listings_features['host_response_rate'].str.replace('%', '').astype(float)\n",
    "listings_features['host_response_rate'] = listings_features['host_response_rate'].fillna(0)  / 100"
   ]
  },
  {
   "cell_type": "code",
   "execution_count": 173,
   "id": "464660cf-1cef-4b61-965b-87442ef207b0",
   "metadata": {},
   "outputs": [],
   "source": [
    "listings_features['security_deposit'] = listings_features['security_deposit'].replace({'\\$': '', ',': ''}, regex=True)\n",
    "listings_features['security_deposit'] = pd.to_numeric(listings_features['security_deposit'])\n",
    "listings_features['security_deposit'] = listings_features['security_deposit'].round(2).fillna(0)"
   ]
  },
  {
   "cell_type": "code",
   "execution_count": 174,
   "id": "fa95195d-7baa-4459-9dd2-c0f010defd06",
   "metadata": {},
   "outputs": [],
   "source": [
    "listings_features['cleaning_fee'] = listings_features['cleaning_fee'].replace({'\\$': '', ',': ''}, regex=True)\n",
    "listings_features['cleaning_fee'] = pd.to_numeric(listings_features['cleaning_fee'])\n",
    "listings_features['cleaning_fee'] = listings_features['cleaning_fee'].round(2).fillna(0)"
   ]
  },
  {
   "cell_type": "markdown",
   "id": "df440f68-9c81-4e8d-8e70-5729f28af214",
   "metadata": {},
   "source": [
    "Now, we will create the last characteristic, which is the average price of each hosting:"
   ]
  },
  {
   "cell_type": "code",
   "execution_count": 175,
   "id": "0e3eea50-c6e8-45c9-ab5f-b49ffd2e4701",
   "metadata": {},
   "outputs": [],
   "source": [
    "# get max price for each year \n",
    "calender_features = calender.groupby('listing_id')['price'].mean().reset_index()\n",
    "calender_features.rename(columns={'price': 'price_avg'}, inplace=True)\n",
    "calender_features['price_avg'] = calender_features['price_avg'].round(2)\n",
    "calender_features['listing_id'] = calender_features['listing_id'].astype('object')"
   ]
  },
  {
   "cell_type": "markdown",
   "id": "30f2b519-1ae6-4850-887b-28e700c8d948",
   "metadata": {},
   "source": [
    "Consolidating all the data extracted from the dataframes into a single source:"
   ]
  },
  {
   "cell_type": "code",
   "execution_count": 181,
   "id": "85a9954a-023d-430a-af10-3ee348fd87a8",
   "metadata": {},
   "outputs": [],
   "source": [
    "data_total = listings_features.merge(reviews_features, on='listing_id', suffixes=('_df1', '_df2'))"
   ]
  },
  {
   "cell_type": "code",
   "execution_count": 212,
   "id": "0a20fd43-1650-493c-843b-7f9536ef168a",
   "metadata": {},
   "outputs": [],
   "source": [
    "data_total = data_total.merge(calender_features, on='listing_id', suffixes=('_df1', '_df2'))"
   ]
  },
  {
   "cell_type": "markdown",
   "id": "e347b21e-06d2-4d70-a4c1-3b46e1537ee4",
   "metadata": {},
   "source": [
    "To end the treatment step, let's deal with the objective column, which is **cancellation_policy**:"
   ]
  },
  {
   "cell_type": "code",
   "execution_count": 183,
   "id": "7a0f6247-1c3e-4df7-a8a8-d1251ace5f4e",
   "metadata": {},
   "outputs": [],
   "source": [
    "le = LabelEncoder()\n",
    "data_total['cancellation_policy'] = le.fit_transform(data_total['cancellation_policy'])"
   ]
  },
  {
   "cell_type": "markdown",
   "id": "8a29fb74-d100-4b2f-9a7b-439bdc69467f",
   "metadata": {},
   "source": [
    "Now we will do the final treatment to apply the model. We will eliminate NA columns and handle the categorical columns below:"
   ]
  },
  {
   "cell_type": "code",
   "execution_count": 203,
   "id": "32a19da0-75a1-4236-bf7f-d5e8eec861df",
   "metadata": {},
   "outputs": [],
   "source": [
    "df = data_total.dropna(subset=['cancellation_policy'], axis=0)\n",
    "y = df['cancellation_policy']\n",
    "\n",
    "#Drop respondent and expected salary columns\n",
    "df = df.drop(['listing_id', 'cancellation_policy'], axis=1)\n",
    "\n",
    "# Fill numeric columns with the mean\n",
    "num_vars = df.select_dtypes(include=['float', 'int']).columns\n",
    "for col in num_vars:\n",
    "    df[col].fillna((df[col].mean()), inplace=True)\n",
    "    \n",
    "# Dummy the categorical variables\n",
    "cat_vars = df.select_dtypes(include=['object']).copy().columns\n",
    "for var in  cat_vars:\n",
    "    # for each cat add dummy var, drop original column\n",
    "    df = pd.concat([df.drop(var, axis=1), pd.get_dummies(df[var], prefix=var, prefix_sep='_', drop_first=True)], axis=1)\n",
    "\n",
    "X = df"
   ]
  },
  {
   "cell_type": "markdown",
   "id": "addaf327-2a1b-4369-a9a1-817786e3a71a",
   "metadata": {},
   "source": [
    "Before applying the model, let's select features based on their importance: "
   ]
  },
  {
   "cell_type": "code",
   "execution_count": 205,
   "id": "a917e060-aa9f-484a-98e3-aa8c155f23bc",
   "metadata": {},
   "outputs": [],
   "source": [
    "# Fit the model\n",
    "model = RandomForestClassifier()\n",
    "model.fit(X, y)\n",
    "\n",
    "importances = model.feature_importances_\n",
    "feature_importances = pd.DataFrame({\"feature\": X.columns, \"importance\": importances})\n",
    "feature_importances = feature_importances.sort_values(\"importance\", ascending=False)\n",
    "selected_features = feature_importances[\"feature\"][:10].to_list()"
   ]
  },
  {
   "cell_type": "code",
   "execution_count": 218,
   "id": "afe42f8b-4db9-4af5-af9b-d663cd04617e",
   "metadata": {},
   "outputs": [],
   "source": [
    "# selecting features of max importance\n",
    "X = X[selected_features]"
   ]
  },
  {
   "cell_type": "markdown",
   "id": "2c75a1f7-e776-409c-947e-2038268699d4",
   "metadata": {},
   "source": [
    "Applying decision tree algorithm to try to predict cancellation policy type:"
   ]
  },
  {
   "cell_type": "code",
   "execution_count": 219,
   "id": "4881897d-5ac8-439d-a04c-a930a239143b",
   "metadata": {},
   "outputs": [],
   "source": [
    "# split dataset into training set and test set\n",
    "X_train, X_test, y_train, y_test = train_test_split(X, y, test_size=0.3, random_state=1) # 70% training and 30% test"
   ]
  },
  {
   "cell_type": "code",
   "execution_count": 220,
   "id": "93642831-4b1a-41fe-b990-1395f690bdb7",
   "metadata": {},
   "outputs": [],
   "source": [
    "# create Decision Tree classifer object\n",
    "clf = DecisionTreeClassifier()\n",
    "\n",
    "# train Decision Tree Classifer\n",
    "clf = clf.fit(X_train,y_train)\n",
    "\n",
    "#predict the response for test dataset\n",
    "y_pred = clf.predict(X_test)"
   ]
  },
  {
   "cell_type": "code",
   "execution_count": 222,
   "id": "408b256f-11b6-4111-b88c-a106ba8b0258",
   "metadata": {},
   "outputs": [
    {
     "name": "stdout",
     "output_type": "stream",
     "text": [
      "Accuracy: 0.5414424111948332\n"
     ]
    }
   ],
   "source": [
    "print(\"Accuracy:\",metrics.accuracy_score(y_test, y_pred))"
   ]
  }
 ],
 "metadata": {
  "kernelspec": {
   "display_name": "Python 3 (ipykernel)",
   "language": "python",
   "name": "python3"
  },
  "language_info": {
   "codemirror_mode": {
    "name": "ipython",
    "version": 3
   },
   "file_extension": ".py",
   "mimetype": "text/x-python",
   "name": "python",
   "nbconvert_exporter": "python",
   "pygments_lexer": "ipython3",
   "version": "3.10.12"
  }
 },
 "nbformat": 4,
 "nbformat_minor": 5
}
